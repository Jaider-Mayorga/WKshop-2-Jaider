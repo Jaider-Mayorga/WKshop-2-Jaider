{
  "nbformat": 4,
  "nbformat_minor": 0,
  "metadata": {
    "colab": {
      "provenance": [],
      "authorship_tag": "ABX9TyN+ay/9RwZBbM/iPIm8JEcr",
      "include_colab_link": true
    },
    "kernelspec": {
      "name": "python3",
      "display_name": "Python 3"
    },
    "language_info": {
      "name": "python"
    }
  },
  "cells": [
    {
      "cell_type": "markdown",
      "metadata": {
        "id": "view-in-github",
        "colab_type": "text"
      },
      "source": [
        "<a href=\"https://colab.research.google.com/github/Jaider-Mayorga/WKshop-2-Jaider/blob/main/WKshop_Jaider.ipynb\" target=\"_parent\"><img src=\"https://colab.research.google.com/assets/colab-badge.svg\" alt=\"Open In Colab\"/></a>"
      ]
    },
    {
      "cell_type": "markdown",
      "source": [
        "# Ex 1 - Number Bet\n",
        "\n",
        "You can bet on any number between 0 and 36. You win if the result is the number you bet on. In any other case, you lose.\n",
        "\n",
        "Write the appropiate the code to reflect this process.\n",
        "\n",
        "The result must show the bet made, the result obtained and if you win or lose."
      ],
      "metadata": {
        "id": "SE3vR1zkzteg"
      }
    },
    {
      "cell_type": "code",
      "source": [
        "import random\n",
        "\n",
        "def bet_on_number():\n",
        "  \"\"\"Simulates a bet on a number between 0 and 36.\n",
        "\n",
        "  Returns:\n",
        "    A tuple with the bet, the result, and if it was a win or loss.\n",
        "  \"\"\"\n",
        "\n",
        "  # Ask the user for their bet\n",
        "  bet = int(input(\"Enter a number between 0 and 36 to bet on: \"))\n",
        "\n",
        "  # Validate that the bet is within the allowed range\n",
        "  while bet < 0 or bet > 36:\n",
        "    print(\"Invalid number. Enter a number between 0 and 36.\")\n",
        "    bet = int(input(\"Enter a number between 0 and 36 to bet on: \"))\n",
        "\n",
        "  # Generate a random number between 0 and 36\n",
        "  result = random.randint(0, 36)\n",
        "\n",
        "  # Compare the bet with the result and determine if it was a win or loss\n",
        "  if bet == result:\n",
        "    win = True\n",
        "  else:\n",
        "    win = False\n",
        "\n",
        "  return bet, result, win\n",
        "\n",
        "# Call the function and display the result\n",
        "bet, result, win = bet_on_number()\n",
        "print(f\"You bet on the number {bet}.\")\n",
        "print(f\"The result was {result}.\")\n",
        "if win:\n",
        "  print(\"You win!\")\n",
        "else:\n",
        "  print(\"You lose!\")"
      ],
      "metadata": {
        "colab": {
          "base_uri": "https://localhost:8080/"
        },
        "id": "a86HsA4azjXw",
        "outputId": "a91e5140-3d5b-4592-ad16-3fd3093b42be"
      },
      "execution_count": null,
      "outputs": [
        {
          "output_type": "stream",
          "name": "stdout",
          "text": [
            "Enter a number between 0 and 36 to bet on: 27\n",
            "You bet on the number 27.\n",
            "The result was 34.\n",
            "You lose!\n"
          ]
        }
      ]
    },
    {
      "cell_type": "markdown",
      "source": [
        "# Ex 2 - Color Bet\n",
        "\n",
        "Each color has an associated color. Zero is neutral.\n",
        "\n",
        "And the rest of the numbers vary between black and red (see the previous image).\n",
        "\n",
        "Write the appropiate code to simulate a random round of Roulette using only the color bet (black or red).\n",
        "\n",
        "The result must show the bet made, the result obtained and if you win or lose.\n",
        "\n",
        "Tip: first define when you lose and when you win."
      ],
      "metadata": {
        "id": "9R0c6nij0DUI"
      }
    },
    {
      "cell_type": "code",
      "source": [
        "import random\n",
        "\n",
        "def bet_on_color():\n",
        "  \"\"\"Simulates a bet on a color in roulette.\n",
        "\n",
        "  Returns:\n",
        "    A tuple with the bet, the result, the result color, and if it was a win or loss.\n",
        "  \"\"\"\n",
        "\n",
        "  # Possible colors in roulette\n",
        "  colors = {\n",
        "      'black': [2, 4, 6, 8, 10, 11, 13, 15, 17, 20, 22, 24, 26, 28, 29, 31, 33, 35],\n",
        "      'red': [1, 3, 5, 7, 9, 12, 14, 16, 18, 19, 21, 23, 25, 27, 30, 32, 34, 36]\n",
        "  }\n",
        "\n",
        "  # Ask the user for their bet\n",
        "  bet = input(\"Enter the color you want to bet on (black or red): \").lower()\n",
        "\n",
        "  # Validate the bet\n",
        "  while bet not in ['black', 'red']:\n",
        "    print(\"Invalid color. Enter 'black' or 'red'.\")\n",
        "    bet = input(\"Enter the color you want to bet on (black or red): \").lower()\n",
        "\n",
        "  # Generate a random number between 1 and 36\n",
        "  result = random.randint(1, 36)\n",
        "\n",
        "  # Determine the color of the resulting number\n",
        "  result_color = 'black' if result in colors['black'] else 'red'\n",
        "\n",
        "  # Compare the bet with the result and determine if it was a win or loss\n",
        "  if bet == result_color:\n",
        "    win = True\n",
        "  else:\n",
        "    win = False\n",
        "\n",
        "  return bet, result, result_color, win\n",
        "\n",
        "# Call the function and display the result\n",
        "bet, result, result_color, win = bet_on_color()\n",
        "print(f\"You bet on the color {bet}.\")\n",
        "print(f\"The result was the number {result} ({result_color}).\")\n",
        "if win:\n",
        "  print(\"You win!\")\n",
        "else:\n",
        "  print(\"You lose!\")"
      ],
      "metadata": {
        "colab": {
          "base_uri": "https://localhost:8080/"
        },
        "id": "8v9HFgoj0IH_",
        "outputId": "987c059d-725e-48cc-c247-992fcf8a5257"
      },
      "execution_count": null,
      "outputs": [
        {
          "output_type": "stream",
          "name": "stdout",
          "text": [
            "Enter the color you want to bet on (black or red): black\n",
            "You bet on the color black.\n",
            "The result was the number 18 (red).\n",
            "You lose!\n"
          ]
        }
      ]
    },
    {
      "cell_type": "markdown",
      "source": [
        "# Ex 3 - Dozens Bet\n",
        "Given the 3 groups:\n",
        "\n",
        "A -> numbers between 1 and 12. B -> numbers between 13 and 24. C -> numbers between 25 and 36.\n",
        "\n",
        "Write the appropiate code to print the result of betting exclusively with dozens.\n",
        "\n",
        "The result must show the bet made, the result obtained and if you win or lose.\n",
        "\n",
        "Tip: Note that zero is not in the groups but it is a possible result."
      ],
      "metadata": {
        "id": "rgRCoIeS1Q3k"
      }
    },
    {
      "cell_type": "code",
      "source": [
        "import random\n",
        "\n",
        "def bet_on_dozen():\n",
        "  \"\"\"Simulates a bet on a dozen in roulette.\n",
        "\n",
        "  Returns:\n",
        "    A tuple with the bet, the result, the result dozen, and if it was a win or loss.\n",
        "  \"\"\"\n",
        "\n",
        "  # Possible dozens in roulette\n",
        "  dozens = {\n",
        "      \"first_dozen\": range(1, 13),\n",
        "      \"second_dozen\": range(13, 25),\n",
        "      \"third_dozen\": range(25, 37)\n",
        "  }\n",
        "\n",
        "  # Ask the user for their bet\n",
        "  bet = input(\"Enter the dozen you want to bet on (first_dozen, second_dozen, or third_dozen): \").lower()\n",
        "\n",
        "  # Validate the bet\n",
        "  while bet not in dozens:\n",
        "    print(\"Invalid dozen. Enter 'first_dozen', 'second_dozen', or 'third_dozen'.\")\n",
        "    bet = input(\"Enter the dozen you want to bet on (first_dozen, second_dozen, or third_dozen): \").lower()\n",
        "\n",
        "  # Generate a random number between 0 and 36\n",
        "  result = random.randint(0, 36)\n",
        "\n",
        "  # Determine the dozen of the result\n",
        "  result_dozen = None\n",
        "  for dozen, numbers in dozens.items():\n",
        "    if result in numbers:\n",
        "      result_dozen = dozen\n",
        "      break\n",
        "\n",
        "  # Compare the bet with the result and determine if it was a win or loss\n",
        "  if bet == result_dozen:\n",
        "    win = True\n",
        "  else:\n",
        "    win = False\n",
        "\n",
        "  return bet, result, result_dozen, win\n",
        "\n",
        "# Call the function and display the result\n",
        "bet, result, result_dozen, win = bet_on_dozen()\n",
        "print(f\"You bet on the {bet} dozen.\")\n",
        "print(f\"The result was the number {result}.\")\n",
        "if result_dozen:\n",
        "  print(f\"The number belongs to the {result_dozen} dozen.\")\n",
        "  if win:\n",
        "    print(\"You win!\")\n",
        "  else:\n",
        "    print(\"You lose!\")\n",
        "else:\n",
        "  print(\"The result was zero, no dozen wins.\")\n"
      ],
      "metadata": {
        "id": "GJcrsiEK12f2",
        "colab": {
          "base_uri": "https://localhost:8080/"
        },
        "outputId": "088e2849-1b48-48f7-e175-b67c8cfd8d5f"
      },
      "execution_count": null,
      "outputs": [
        {
          "output_type": "stream",
          "name": "stdout",
          "text": [
            "Enter the dozen you want to bet on (first_dozen, second_dozen, or third_dozen): First_dozen\n",
            "You bet on the first_dozen dozen.\n",
            "The result was the number 18.\n",
            "The number belongs to the second_dozen dozen.\n",
            "You lose!\n"
          ]
        }
      ]
    },
    {
      "cell_type": "markdown",
      "source": [
        "#Ex 4 - Putting everything together\n",
        "Write the code that simulate a random game of Roulette where the person can bet on: Number, Color, Dozen or any combination she or he wants.\n",
        "\n",
        "The result must show the bet made, the result obtained and if you win or lose."
      ],
      "metadata": {
        "id": "91u0gB182n8v"
      }
    },
    {
      "cell_type": "code",
      "source": [
        "import random\n",
        "\n",
        "def play_roulette():\n",
        "  \"\"\"Simulates a complete roulette game.\n",
        "\n",
        "  Allows the player to bet on a number, color, dozen, or any combination.\n",
        "\n",
        "  Returns:\n",
        "    A tuple with the bet, the result, and if the player won or lost.\n",
        "  \"\"\"\n",
        "\n",
        "  # Numbers, colors, and dozens on the roulette wheel\n",
        "  numbers = list(range(1, 37))\n",
        "  colors = {'red': [1, 3, 5, 7, 9, 12, 14, 16, 18, 19, 21, 23, 25, 27, 30, 32, 34, 36],\n",
        "            'black': [2, 4, 6, 8, 10, 11, 13, 15, 17, 20, 22, 24, 26, 28, 29, 31, 33, 35]}\n",
        "  dozens = {'first': range(1, 13), 'second': range(13, 25), 'third': range(25, 37)}\n",
        "\n",
        "  # Ask the player for their bet\n",
        "  bet = input(\"Enter your bet (number, color, dozen, or combination): \").lower()\n",
        "\n",
        "  # Validate the bet\n",
        "  # ... (see below)\n",
        "\n",
        "  # Generate a random number between 0 and 36\n",
        "  result = random.randint(0, 36)\n",
        "\n",
        "  # Determine the color and dozen of the result\n",
        "  color_result = 'red' if result in colors['red'] else 'black'\n",
        "  dozen_result = None\n",
        "  for dozen, numbers in dozens.items():\n",
        "      if result in numbers:\n",
        "          dozen_result = dozen\n",
        "          break\n",
        "\n",
        "  # Compare the bet with the result and determine if the player won or lost\n",
        "  # This is a placeholder, replace with your win/loss logic\n",
        "  # For example:\n",
        "  won = False  # Initialize won to False\n",
        "  if bet == color_result or bet == dozen_result or bet == str(result): # Assuming the bet format matches\n",
        "      won = True\n",
        "\n",
        "  return bet, result, color_result, dozen_result, won\n",
        "\n",
        "# Call the function and display the result\n",
        "bet, result, color_result, dozen_result, won = play_roulette()\n",
        "print(f\"You bet on {bet}.\")\n",
        "print(f\"The result was {result} ({color_result}, {dozen_result}).\")\n",
        "print(\"You win!\" if won else \"You lose!\")"
      ],
      "metadata": {
        "colab": {
          "base_uri": "https://localhost:8080/"
        },
        "id": "rE5RDZRw7blV",
        "outputId": "bd66ccd5-c349-4ec0-8275-cdcb56d8c9f6"
      },
      "execution_count": null,
      "outputs": [
        {
          "output_type": "stream",
          "name": "stdout",
          "text": [
            "Enter your bet (number, color, dozen, or combination): 29, black, dozen_first\n",
            "You bet on 29, black, dozen_first.\n",
            "The result was 28 (black, third).\n",
            "You lose!\n"
          ]
        }
      ]
    },
    {
      "cell_type": "code",
      "source": [],
      "metadata": {
        "id": "wwLqD4eO74KV"
      },
      "execution_count": null,
      "outputs": []
    }
  ]
}